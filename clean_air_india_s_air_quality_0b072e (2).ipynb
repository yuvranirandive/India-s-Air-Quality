{
  "metadata": {
    "kernelspec": {
      "language": "python",
      "display_name": "Python 3",
      "name": "python3"
    },
    "language_info": {
      "pygments_lexer": "ipython3",
      "nbconvert_exporter": "python",
      "version": "3.6.4",
      "file_extension": ".py",
      "codemirror_mode": {
        "name": "ipython",
        "version": 3
      },
      "name": "python",
      "mimetype": "text/x-python"
    },
    "kaggle": {
      "accelerator": "none",
      "dataSources": [
        {
          "sourceId": 1377609,
          "sourceType": "datasetVersion",
          "datasetId": 630055
        }
      ],
      "dockerImageVersionId": 29907,
      "isInternetEnabled": true,
      "language": "python",
      "sourceType": "notebook",
      "isGpuEnabled": false
    },
    "colab": {
      "provenance": []
    }
  },
  "nbformat_minor": 0,
  "nbformat": 4,
  "cells": [
    {
      "cell_type": "markdown",
      "source": [
        "![](https://www.nextwanderlust.com/wp-content/uploads/2017/12/Incredible-India.jpg)"
      ],
      "metadata": {
        "id": "JcJ4C95XiNCZ"
      }
    },
    {
      "cell_type": "markdown",
      "source": [
        "# Air Quality in India\n",
        "\n",
        "![](https://images.indianexpress.com/2017/08/pollution-delhi-759.jpg)"
      ],
      "metadata": {
        "id": "jKTHGdDciNCb"
      }
    },
    {
      "cell_type": "markdown",
      "source": [
        "![](https://nirvanabeing.com/wp-content/uploads/2018/04/iaq_blog_1.jpg)"
      ],
      "metadata": {
        "id": "brEFwXFEiNCb"
      }
    },
    {
      "cell_type": "markdown",
      "source": [
        "# Understanding Indian Air Quality Index(AQI)\n",
        "\n",
        "Air Pollution / By yuvrani\n",
        "\n",
        "In an attempt to make air quality measurement easier to understand, the ministry of environment and forests launched a National Air Quality Index (AQI). It will put out real time data about level of pollutants in the air and inform people about possible impacts on health.\n",
        "\n",
        "Government have added five more components to the new measurement process: Particulate Matter 2.5, ozone, carbon monoxide, ammonia and lead\n",
        "\n",
        "The index classifies air quality simply as good, satisfactory, moderately polluted, poor, very poor, and severe. Each band is represented by a colour code to visually express the level of severity that people can grasp easily.\n",
        "\n"
      ],
      "metadata": {
        "id": "YNZXhg6miNCc"
      }
    },
    {
      "cell_type": "code",
      "source": [
        "import os\n",
        "import warnings\n",
        "import numpy as np\n",
        "import pandas as pd\n",
        "from math import pi\n",
        "import seaborn as sns\n",
        "import plotly.express as px\n",
        "import matplotlib.pyplot as plt\n",
        "from IPython.display import HTML,display\n",
        "\n",
        "warnings.filterwarnings(\"ignore\")\n",
        "\n",
        "for dirname, _, filenames in os.walk('/kaggle/input'):\n",
        "    for filename in filenames:\n",
        "        print(os.path.join(dirname, filename))"
      ],
      "metadata": {
        "_uuid": "8f2839f25d086af736a60e9eeb907d3b93b6e0e5",
        "_cell_guid": "b1076dfc-b9ad-4769-8c92-a6c4dae69d19",
        "_kg_hide-input": true,
        "_kg_hide-output": true,
        "trusted": true,
        "id": "lbAOmmzPiNCc"
      },
      "execution_count": null,
      "outputs": []
    },
    {
      "cell_type": "code",
      "source": [
        "df_station_hour = pd.read_csv(\"/kaggle/input/air-quality-data-in-india/station_hour.csv\")\n",
        "df_city_hour    = pd.read_csv(\"/kaggle/input/air-quality-data-in-india/city_hour.csv\")\n",
        "df_station_day  = pd.read_csv(\"/kaggle/input/air-quality-data-in-india/station_day.csv\")\n",
        "df_city_day     = pd.read_csv(\"/kaggle/input/air-quality-data-in-india/city_day.csv\")\n",
        "df_stations     = pd.read_csv(\"/kaggle/input/air-quality-data-in-india/stations.csv\")"
      ],
      "metadata": {
        "_uuid": "d629ff2d2480ee46fbb7e2d37f6b5fab8052498a",
        "_cell_guid": "79c7e3d0-c299-4dcb-8224-4455121ee9b0",
        "_kg_hide-input": true,
        "_kg_hide-output": true,
        "trusted": true,
        "id": "RxE_qteEiNCc"
      },
      "execution_count": null,
      "outputs": []
    },
    {
      "cell_type": "code",
      "source": [
        "df_station_hour.head()"
      ],
      "metadata": {
        "_kg_hide-input": true,
        "_kg_hide-output": true,
        "trusted": true,
        "id": "vVYMXaOBiNCd"
      },
      "execution_count": null,
      "outputs": []
    },
    {
      "cell_type": "code",
      "source": [
        "df_station_hour['Datetime'].min() , df_station_hour['Datetime'].max()"
      ],
      "metadata": {
        "_kg_hide-input": true,
        "_kg_hide-output": true,
        "trusted": true,
        "id": "KcBuIhY7iNCd"
      },
      "execution_count": null,
      "outputs": []
    },
    {
      "cell_type": "code",
      "source": [
        "df_station_day.head()"
      ],
      "metadata": {
        "_kg_hide-input": true,
        "_kg_hide-output": true,
        "trusted": true,
        "id": "T1bPj3sdiNCd"
      },
      "execution_count": null,
      "outputs": []
    },
    {
      "cell_type": "code",
      "source": [
        "df_station_day['Date'].min() , df_station_day['Date'].max()"
      ],
      "metadata": {
        "_kg_hide-input": true,
        "_kg_hide-output": true,
        "trusted": true,
        "id": "Dwz5r1GRiNCd"
      },
      "execution_count": null,
      "outputs": []
    },
    {
      "cell_type": "code",
      "source": [
        "df_city_day.head()"
      ],
      "metadata": {
        "_kg_hide-input": true,
        "_kg_hide-output": true,
        "trusted": true,
        "id": "bLrweP6CiNCd"
      },
      "execution_count": null,
      "outputs": []
    },
    {
      "cell_type": "code",
      "source": [
        "df_city_day['Date'].min() , df_city_day['Date'].max()"
      ],
      "metadata": {
        "_kg_hide-input": true,
        "_kg_hide-output": true,
        "trusted": true,
        "id": "PaSXFaBJiNCe"
      },
      "execution_count": null,
      "outputs": []
    },
    {
      "cell_type": "code",
      "source": [
        "df_stations.head()"
      ],
      "metadata": {
        "_kg_hide-input": true,
        "_kg_hide-output": true,
        "trusted": true,
        "id": "ziZI09LIiNCe"
      },
      "execution_count": null,
      "outputs": []
    },
    {
      "cell_type": "code",
      "source": [
        "!pip install bar_chart_race"
      ],
      "metadata": {
        "_kg_hide-output": true,
        "_kg_hide-input": true,
        "trusted": true,
        "id": "TqTyZpj7iNCe"
      },
      "execution_count": null,
      "outputs": []
    },
    {
      "cell_type": "code",
      "source": [
        "df_chart = df_city_day.pivot(index='Date', columns='City', values='CO')\n",
        "df_chart = df_chart.fillna(df_chart.mean())\n",
        "df_chart.head()"
      ],
      "metadata": {
        "_kg_hide-input": true,
        "_kg_hide-output": true,
        "trusted": true,
        "id": "q7fzI8gXiNCe"
      },
      "execution_count": null,
      "outputs": []
    },
    {
      "cell_type": "code",
      "source": [
        "import bar_chart_race as bcr\n",
        "\n",
        "df_chart_simplified = df_chart.iloc[::2]\n",
        "\n",
        "bcr_html = bcr.bar_chart_race(df=df_chart_simplified,\n",
        "                              filename=None,\n",
        "                              orientation='h',\n",
        "                              sort='desc',\n",
        "                              n_bars=10,\n",
        "                              label_bars=True,\n",
        "                              use_index=True,\n",
        "                              steps_per_period=10,\n",
        "                              period_length=500,\n",
        "                              figsize=(4, 3.5),\n",
        "                              cmap='dark24',\n",
        "                              title='City-Wise CO Pollution Levels ',\n",
        "                              bar_label_size=7,\n",
        "                              tick_label_size=7,\n",
        "                              period_label_size=16,\n",
        "                              fig=None)\n",
        "\n",
        "display(HTML(bcr_html))\n",
        "#thank you Ted , https://github.com/dexplo/bar_chart_race"
      ],
      "metadata": {
        "_kg_hide-input": true,
        "trusted": true,
        "id": "z5fB2rqmiNCe"
      },
      "execution_count": null,
      "outputs": []
    },
    {
      "cell_type": "code",
      "source": [
        "df_city_day  = pd.read_csv(\"/kaggle/input/air-quality-data-in-india/city_day.csv\")\n",
        "df_city_day  = df_city_day.fillna(df_city_day.mean())\n",
        "\n",
        "df_Ahmedabad = df_city_day[df_city_day['City']== 'Ahmedabad']\n",
        "df_Bengaluru = df_city_day[df_city_day['City']== 'Bengaluru']\n",
        "df_Delhi     = df_city_day[df_city_day['City']== 'Delhi']\n",
        "df_Hyderabad = df_city_day[df_city_day['City']== 'Hyderabad']\n",
        "df_Kolkata   = df_city_day[df_city_day['City']== 'Kolkata']\n"
      ],
      "metadata": {
        "_kg_hide-input": true,
        "_kg_hide-output": true,
        "trusted": true,
        "id": "OOos-SKjiNCe"
      },
      "execution_count": null,
      "outputs": []
    },
    {
      "cell_type": "code",
      "source": [
        "df_Kolkata.head()"
      ],
      "metadata": {
        "_kg_hide-input": true,
        "_kg_hide-output": true,
        "trusted": true,
        "id": "qjORGwakiNCe"
      },
      "execution_count": null,
      "outputs": []
    },
    {
      "cell_type": "code",
      "source": [
        "fig,ax = plt.subplots(figsize=(20, 10))\n",
        "sns.despine(fig, left=True, bottom=True)\n",
        "sns.set_context(\"notebook\", font_scale=2, rc={\"lines.linewidth\": 3})\n",
        "\n",
        "sns.lineplot(x=\"Date\", y=\"CO\", data=df_Ahmedabad.iloc[::30], color=\"b\",label = 'Ahmedabad')\n",
        "sns.lineplot(x=\"Date\", y=\"CO\", data=df_Kolkata.iloc  [::30], color=\"r\",label = 'Kolkata')\n",
        "sns.lineplot(x=\"Date\", y=\"CO\", data=df_Bengaluru.iloc[::30], color=\"g\",label = 'Bengaluru')\n",
        "sns.lineplot(x=\"Date\", y=\"CO\", data=df_Delhi    .iloc[::30], color=\"y\",label = 'Delhi    ')\n",
        "sns.lineplot(x=\"Date\", y=\"CO\", data=df_Hyderabad.iloc[::30], color=\"black\",label = 'Hyderabad')\n",
        "\n",
        "labels = [item.get_text() for item in ax.get_xticklabels()]\n",
        "labels[1] = 'January 2015 to April 2020'\n",
        "ax.set_xticklabels(ax.get_xticklabels(labels), rotation=30,ha=\"left\")\n",
        "plt.rcParams[\"xtick.labelsize\"] = 15\n",
        "\n",
        "ax.set_title('CO LEVEL FROM DIFFERENT CITIES')\n",
        "ax.legend(fontsize = 14)\n",
        "\n",
        "fig,ax = plt.subplots(figsize=(20, 10))\n",
        "sns.despine(fig, left=True, bottom=True)\n",
        "sns.set_context(\"notebook\", font_scale=2, rc={\"lines.linewidth\": 3})\n",
        "\n",
        "sns.lineplot(x=\"Date\", y=\"NO\", data=df_Ahmedabad.iloc[::30], color=\"b\",label = 'Ahmedabad')\n",
        "sns.lineplot(x=\"Date\", y=\"NO\", data=df_Kolkata.iloc  [::30], color=\"r\",label = 'Kolkata')\n",
        "sns.lineplot(x=\"Date\", y=\"NO\", data=df_Bengaluru.iloc[::30], color=\"g\",label = 'Bengaluru')\n",
        "sns.lineplot(x=\"Date\", y=\"NO\", data=df_Delhi    .iloc[::30], color=\"y\",label = 'Delhi    ')\n",
        "sns.lineplot(x=\"Date\", y=\"NO\", data=df_Hyderabad.iloc[::30], color=\"black\",label = 'Hyderabad')\n",
        "\n",
        "ax.set_xticklabels(ax.get_xticklabels(labels), rotation=30,ha=\"left\")\n",
        "plt.rcParams[\"xtick.labelsize\"] = 15\n",
        "\n",
        "ax.set_title('NO LEVEL FROM DIFFERENT CITIES')\n",
        "ax.legend(fontsize = 14)\n",
        "\n",
        "fig,ax = plt.subplots(figsize=(20, 10))\n",
        "sns.despine(fig, left=True, bottom=True)\n",
        "sns.set_context(\"notebook\", font_scale=2, rc={\"lines.linewidth\": 3})\n",
        "\n",
        "sns.lineplot(x=\"Date\", y=\"PM10\", data=df_Ahmedabad.iloc[::30], color=\"b\",label = 'Ahmedabad')\n",
        "sns.lineplot(x=\"Date\", y=\"PM10\", data=df_Kolkata.iloc  [::30], color=\"r\",label = 'Kolkata')\n",
        "sns.lineplot(x=\"Date\", y=\"PM10\", data=df_Bengaluru.iloc[::30], color=\"g\",label = 'Bengaluru')\n",
        "sns.lineplot(x=\"Date\", y=\"PM10\", data=df_Delhi    .iloc[::30], color=\"y\",label = 'Delhi    ')\n",
        "sns.lineplot(x=\"Date\", y=\"PM10\", data=df_Hyderabad.iloc[::30], color=\"black\",label = 'Hyderabad')\n",
        "\n",
        "ax.set_xticklabels(ax.get_xticklabels(labels), rotation=30,ha=\"left\")\n",
        "plt.rcParams[\"xtick.labelsize\"] = 15\n",
        "\n",
        "ax.set_title('PM10 LEVEL FROM DIFFERENT CITIES')\n",
        "ax.legend(fontsize = 14)\n",
        "\n",
        "fig,ax = plt.subplots(figsize=(20, 10))\n",
        "sns.despine(fig, left=True, bottom=True)\n",
        "sns.set_context(\"notebook\", font_scale=2, rc={\"lines.linewidth\": 3})\n",
        "\n",
        "sns.lineplot(x=\"Date\", y=\"NO2\", data=df_Ahmedabad.iloc[::30], color=\"b\",label = 'Ahmedabad')\n",
        "sns.lineplot(x=\"Date\", y=\"NO2\", data=df_Kolkata.iloc  [::30], color=\"r\",label = 'Kolkata')\n",
        "sns.lineplot(x=\"Date\", y=\"NO2\", data=df_Bengaluru.iloc[::30], color=\"g\",label = 'Bengaluru')\n",
        "sns.lineplot(x=\"Date\", y=\"NO2\", data=df_Delhi    .iloc[::30], color=\"y\",label = 'Delhi    ')\n",
        "sns.lineplot(x=\"Date\", y=\"NO2\", data=df_Hyderabad.iloc[::30], color=\"black\",label = 'Hyderabad')\n",
        "\n",
        "ax.set_xticklabels(ax.get_xticklabels(labels), rotation=30,ha=\"left\")\n",
        "plt.rcParams[\"xtick.labelsize\"] = 15\n",
        "\n",
        "ax.set_title('NO2 LEVEL FROM DIFFERENT CITIES')\n",
        "ax.legend(fontsize = 14)\n",
        "\n",
        "fig,ax = plt.subplots(figsize=(20, 10))\n",
        "sns.despine(fig, left=True, bottom=True)\n",
        "sns.set_context(\"notebook\", font_scale=2, rc={\"lines.linewidth\": 1})\n",
        "\n",
        "sns.barplot(x=\"Date\", y=\"NOx\", data=df_Ahmedabad.iloc[::30], color=\"b\",label = 'Ahmedabad')\n",
        "sns.barplot(x=\"Date\", y=\"NOx\", data=df_Kolkata.iloc  [::30], color=\"r\",label = 'Kolkata')\n",
        "sns.barplot(x=\"Date\", y=\"NOx\", data=df_Bengaluru.iloc[::30], color=\"g\",label = 'Bengaluru')\n",
        "sns.barplot(x=\"Date\", y=\"NOx\", data=df_Delhi    .iloc[::30], color=\"y\",label = 'Delhi    ')\n",
        "sns.barplot(x=\"Date\", y=\"NOx\", data=df_Hyderabad.iloc[::30], color=\"black\",label = 'Hyderabad')\n",
        "\n",
        "ax.set_xticklabels(ax.get_xticklabels(labels), rotation=30,ha=\"left\")\n",
        "plt.rcParams[\"xtick.labelsize\"] = 15\n",
        "\n",
        "ax.set_title('NOx LEVEL FROM DIFFERENT CITIES')\n",
        "ax.legend(fontsize = 14)\n",
        "\n",
        "fig,ax = plt.subplots(figsize=(20, 10))\n",
        "sns.despine(fig, left=True, bottom=True)\n",
        "sns.set_context(\"notebook\", font_scale=2, rc={\"lines.linewidth\": 1})\n",
        "\n",
        "sns.barplot(x=\"Date\", y=\"NH3\", data=df_Delhi    .iloc[::30], color=\"y\",label = 'Delhi    ')\n",
        "sns.barplot(x=\"Date\", y=\"NH3\", data=df_Ahmedabad.iloc[::30], color=\"b\",label = 'Ahmedabad')\n",
        "sns.barplot(x=\"Date\", y=\"NH3\", data=df_Hyderabad.iloc[::30], color=\"black\",label = 'Hyderabad')\n",
        "sns.barplot(x=\"Date\", y=\"NH3\", data=df_Bengaluru.iloc[::30], color=\"g\",label = 'Bengaluru')\n",
        "sns.barplot(x=\"Date\", y=\"NH3\", data=df_Kolkata.iloc  [::30], color=\"r\",label = 'Kolkata')\n",
        "\n",
        "\n",
        "ax.set_xticklabels(ax.get_xticklabels(labels), rotation=30,ha=\"left\")\n",
        "plt.rcParams[\"xtick.labelsize\"] = 15\n",
        "\n",
        "ax.set_title('NH3 LEVEL FROM DIFFERENT CITIES')\n",
        "ax.legend(fontsize = 14);"
      ],
      "metadata": {
        "_kg_hide-input": true,
        "trusted": true,
        "id": "WGr_QFtciNCe"
      },
      "execution_count": null,
      "outputs": []
    },
    {
      "cell_type": "code",
      "source": [
        "fig,ax = plt.subplots(figsize=(20, 10))\n",
        "sns.despine(fig, left=True, bottom=True)\n",
        "sns.set_context(\"notebook\", font_scale=2, rc={\"lines.linewidth\": 2})\n",
        "\n",
        "sns.lineplot(x=\"Date\", y=\"AQI\", data=df_Delhi    .iloc[::30], color=\"y\",label = 'Delhi    ')\n",
        "sns.lineplot(x=\"Date\", y=\"AQI\", data=df_Ahmedabad.iloc[::30], color=\"b\",label = 'Ahmedabad')\n",
        "sns.lineplot(x=\"Date\", y=\"AQI\", data=df_Hyderabad.iloc[::30], color=\"black\",label = 'Hyderabad')\n",
        "sns.lineplot(x=\"Date\", y=\"AQI\", data=df_Bengaluru.iloc[::30], color=\"g\",label = 'Bengaluru')\n",
        "sns.lineplot(x=\"Date\", y=\"AQI\", data=df_Kolkata.iloc  [::30], color=\"r\",label = 'Kolkata')\n",
        "\n",
        "\n",
        "ax.set_xticklabels(ax.get_xticklabels(labels), rotation=30,ha=\"left\")\n",
        "plt.rcParams[\"xtick.labelsize\"] = 15\n",
        "\n",
        "ax.set_title('AQI LEVEL FROM DIFFERENT CITIES')\n",
        "ax.legend(fontsize = 14);"
      ],
      "metadata": {
        "_kg_hide-input": true,
        "trusted": true,
        "id": "oG4h0rL4iNCf"
      },
      "execution_count": null,
      "outputs": []
    },
    {
      "cell_type": "code",
      "source": [
        "fig,ax = plt.subplots(figsize=(20, 10))\n",
        "sns.despine(fig, left=True, bottom=True)\n",
        "sns.set_context(\"notebook\", font_scale=2, rc={\"lines.linewidth\": 2})\n",
        "\n",
        "sns.distplot(df_Delhi    [\"AQI\"].iloc[::30], color=\"y\",label = 'Delhi    ')\n",
        "sns.distplot(df_Ahmedabad[\"AQI\"].iloc[::30], color=\"b\",label = 'Ahmedabad')\n",
        "sns.distplot(df_Hyderabad[\"AQI\"].iloc[::30], color=\"black\",label = 'Hyderabad')\n",
        "sns.distplot(df_Bengaluru[\"AQI\"].iloc[::30], color=\"g\",label = 'Bengaluru')\n",
        "sns.distplot(df_Kolkata  [\"AQI\"].iloc  [::30], color=\"r\",label = 'Kolkata')\n",
        "\n",
        "\n",
        "ax.set_xticklabels(ax.get_xticklabels(labels), rotation=30,ha=\"left\")\n",
        "plt.rcParams[\"xtick.labelsize\"] = 15\n",
        "\n",
        "ax.set_title('AQI DISTRIBUTION FROM DIFFERENT CITIES')\n",
        "ax.legend(fontsize = 14)\n",
        "\n",
        "fig,ax = plt.subplots(figsize=(20, 10))\n",
        "sns.despine(fig, left=True, bottom=True)\n",
        "sns.set_context(\"notebook\", font_scale=2, rc={\"lines.linewidth\": 2})\n",
        "\n",
        "sns.distplot(df_Delhi    [\"CO\"].iloc[::30], color=\"y\",label = 'Delhi    ')\n",
        "sns.distplot(df_Ahmedabad[\"CO\"].iloc[::30], color=\"b\",label = 'Ahmedabad')\n",
        "sns.distplot(df_Hyderabad[\"CO\"].iloc[::30], color=\"black\",label = 'Hyderabad')\n",
        "sns.distplot(df_Bengaluru[\"CO\"].iloc[::30], color=\"g\",label = 'Bengaluru')\n",
        "sns.distplot(df_Kolkata  [\"CO\"].iloc  [::30], color=\"r\",label = 'Kolkata')\n",
        "\n",
        "\n",
        "ax.set_xticklabels(ax.get_xticklabels(labels), rotation=30,ha=\"left\")\n",
        "plt.rcParams[\"xtick.labelsize\"] = 15\n",
        "\n",
        "ax.set_title('CO DISTRIBUTION FROM DIFFERENT CITIES')\n",
        "ax.legend(fontsize = 14)\n",
        "\n",
        "fig,ax = plt.subplots(figsize=(20, 10))\n",
        "sns.despine(fig, left=True, bottom=True)\n",
        "sns.set_context(\"notebook\", font_scale=2, rc={\"lines.linewidth\": 2})\n",
        "\n",
        "sns.distplot(df_Delhi    [\"NOx\"].iloc[::30], color=\"y\",label = 'Delhi    ')\n",
        "sns.distplot(df_Ahmedabad[\"NOx\"].iloc[::30], color=\"b\",label = 'Ahmedabad')\n",
        "sns.distplot(df_Hyderabad[\"NOx\"].iloc[::30], color=\"black\",label = 'Hyderabad')\n",
        "sns.distplot(df_Bengaluru[\"NOx\"].iloc[::30], color=\"g\",label = 'Bengaluru')\n",
        "sns.distplot(df_Kolkata  [\"NOx\"].iloc  [::30], color=\"r\",label = 'Kolkata')\n",
        "\n",
        "\n",
        "ax.set_xticklabels(ax.get_xticklabels(labels), rotation=30,ha=\"left\")\n",
        "plt.rcParams[\"xtick.labelsize\"] = 15\n",
        "\n",
        "ax.set_title('NOx DISTRIBUTION FROM DIFFERENT CITIES')\n",
        "ax.legend(fontsize = 14);"
      ],
      "metadata": {
        "_kg_hide-input": true,
        "trusted": true,
        "id": "L2OpIF2TiNCf"
      },
      "execution_count": null,
      "outputs": []
    },
    {
      "cell_type": "code",
      "source": [
        "df_CO = df_city_day.pivot(index='Date', columns='City', values='CO')\n",
        "df_CO = df_CO.fillna(df_CO.mean())\n",
        "\n",
        "df_NO = df_city_day.pivot(index='Date', columns='City', values='NO')\n",
        "df_NO = df_NO.fillna(df_NO.mean())\n",
        "\n",
        "df_SO2 = df_city_day.pivot(index='Date', columns='City', values='SO2')\n",
        "df_SO2 = df_SO2.fillna(df_SO2.mean())\n",
        "\n",
        "df_O3 = df_city_day.pivot(index='Date', columns='City', values='O3')\n",
        "df_O3 = df_O3.fillna(df_O3.mean())\n",
        "\n",
        "categories=list(df_CO)[0:]\n",
        "N = len(categories)\n",
        "\n",
        "values_co  = df_CO.mean(axis=0)\n",
        "values_no  = df_NO.mean(axis=0)\n",
        "values_so2 = df_SO2.mean(axis=0)\n",
        "values_o3  = df_O3.mean(axis=0)\n",
        "\n",
        "angles = [n / float(N-1) * 2 * pi for n in range(N-1)]\n",
        "angles += angles[:1]\n",
        "\n",
        "\n",
        "fig = plt.figure(figsize=(16,14))\n",
        "ax = plt.subplot(111, polar=True)\n",
        "\n",
        "plt.xticks(angles[:-1], categories, color='black', size=10)\n",
        "\n",
        "ax.set_rlabel_position(0)\n",
        "plt.yticks([0,5,10,15,20,25,30,35,40], [\"0\",\"5\",\"10\",\"15\",\"20\",\"25\",\"30\",\"35\",\"40\"], color=\"grey\", size=12)\n",
        "plt.ylim(0,40)\n",
        "\n",
        "ax.plot(angles, values_co, 'red',linewidth=1, linestyle='solid', label=\"CO LEVELS\")\n",
        "ax.fill(angles, values_co, 'red', alpha=0.1)\n",
        "\n",
        "ax.plot(angles, values_no, 'blue',linewidth=1, linestyle='solid', label=\"NO LEVELS\")\n",
        "ax.fill(angles, values_no, 'blue', alpha=0.1)\n",
        "\n",
        "ax.plot(angles, values_so2,'green',linewidth=1, linestyle='solid', label=\"SO2 LEVELS\")\n",
        "ax.fill(angles, values_so2,'green', alpha=0.1)\n",
        "\n",
        "ax.plot(angles, values_o3, 'yellow',linewidth=1, linestyle='solid', label=\"O3 LEVELS\")\n",
        "ax.fill(angles, values_o3, 'yellow', alpha=0.1)\n",
        "\n",
        "plt.legend(loc='upper right', bbox_to_anchor=(0.1, 0.1))\n",
        "plt.title(\"Average Pollution Levels\",fontsize=20);"
      ],
      "metadata": {
        "_kg_hide-input": true,
        "trusted": true,
        "id": "WYSHLXcAiNCf"
      },
      "execution_count": null,
      "outputs": []
    },
    {
      "cell_type": "markdown",
      "source": [
        "# Covid - 19 Effect"
      ],
      "metadata": {
        "id": "kvA2L927iNCf"
      }
    },
    {
      "cell_type": "code",
      "source": [
        "df_CO.index = pd.to_datetime(df_CO.index)\n",
        "df_CO_2019_04 = df_CO.loc['2019-04-01':'2019-04-10']\n",
        "df_CO_2020_04 = df_CO.loc['2020-04-01':'2020-04-10']\n",
        "\n",
        "df_CO_2019_04['Month'] = \"03\"\n",
        "df_CO_2020_04['Month'] = \"04\"\n",
        "\n",
        "df_CO_04 = pd.concat([df_CO_2019_04,df_CO_2020_04])\n",
        "#df_CO_04.head()"
      ],
      "metadata": {
        "_kg_hide-input": true,
        "_kg_hide-output": true,
        "trusted": true,
        "id": "wO181nvLiNCf"
      },
      "execution_count": null,
      "outputs": []
    },
    {
      "cell_type": "code",
      "source": [
        "sns.set(style=\"whitegrid\")\n",
        "\n",
        "g = sns.catplot(x=\"Month\", y=\"Ahmedabad\", data=df_CO_04,\n",
        "                height=6, kind=\"bar\", palette=\"muted\")\n",
        "g.despine(left=True)\n",
        "g.set_ylabels(\"CO LEVEL\")\n",
        "\n",
        "plt.legend(loc='upper right', bbox_to_anchor=(0.1, 0.1))\n",
        "plt.title(\"Ahmedabad April 2019 vs 2020\",fontsize=20);"
      ],
      "metadata": {
        "_kg_hide-input": true,
        "_kg_hide-output": true,
        "trusted": true,
        "id": "YuW3l2TDiNCf"
      },
      "execution_count": null,
      "outputs": []
    },
    {
      "cell_type": "code",
      "source": [
        "df_city_day     = pd.read_csv(\"/kaggle/input/air-quality-data-in-india/city_day.csv\",index_col=\"Date\")\n",
        "df_city_day.fillna(df_city_day.mean(),inplace=True)\n",
        "df_city_day.index = pd.to_datetime(df_city_day.index)\n",
        "\n",
        "df_2019_04 = df_city_day.loc['2019-04-01':'2019-04-10']\n",
        "df_2020_04 = df_city_day.loc['2020-04-01':'2020-04-10']\n",
        "\n",
        "df_2019_04['Year'] = \"2019\"\n",
        "df_2020_04['Year'] = \"2020\"\n",
        "\n",
        "df_comparison = pd.concat([df_2019_04,df_2020_04])\n",
        "#df_comparison.head()"
      ],
      "metadata": {
        "_kg_hide-input": true,
        "_kg_hide-output": true,
        "trusted": true,
        "id": "TTn16AxaiNCg"
      },
      "execution_count": null,
      "outputs": []
    },
    {
      "cell_type": "code",
      "source": [
        "df_comparison.tail()"
      ],
      "metadata": {
        "_kg_hide-input": true,
        "_kg_hide-output": true,
        "trusted": true,
        "id": "wjQ8kPPmiNCg"
      },
      "execution_count": null,
      "outputs": []
    },
    {
      "cell_type": "code",
      "source": [
        "chart = sns.catplot(x=\"City\", y=\"CO\", hue=\"Year\", data=df_comparison, height=14, aspect=1.6, kind=\"bar\", palette=\"muted\");\n",
        "chart.set_xticklabels(rotation=45);\n",
        "\n",
        "chart = sns.catplot(x=\"City\", y=\"NO\", hue=\"Year\", data=df_comparison, height=14, aspect=1.6, kind=\"bar\", palette=\"muted\");\n",
        "chart.set_xticklabels(rotation=45);\n",
        "\n",
        "chart = sns.catplot(x=\"City\", y=\"O3\", hue=\"Year\", data=df_comparison, height=14, aspect=1.6, kind=\"bar\", palette=\"muted\");\n",
        "chart.set_xticklabels(rotation=45);\n",
        "\n",
        "chart = sns.catplot(x=\"City\", y=\"Benzene\", hue=\"Year\", data=df_comparison, height=14, aspect=1.6, kind=\"bar\", palette=\"muted\");\n",
        "chart.set_xticklabels(rotation=45);"
      ],
      "metadata": {
        "_kg_hide-input": true,
        "trusted": true,
        "id": "6JJztIpLiNCg"
      },
      "execution_count": null,
      "outputs": []
    },
    {
      "cell_type": "markdown",
      "source": [
        "# Animation"
      ],
      "metadata": {
        "id": "sClP8zBdiNCg"
      }
    },
    {
      "cell_type": "code",
      "source": [
        "df_city_day     = pd.read_csv(\"/kaggle/input/air-quality-data-in-india/city_day.csv\")\n",
        "df_city_day.fillna(df_city_day.mean(),inplace=True)\n",
        "df_city_day['Date'] = pd.to_datetime(df_city_day['Date'])\n",
        "\n"
      ],
      "metadata": {
        "trusted": true,
        "id": "1pm754VliNCg"
      },
      "execution_count": null,
      "outputs": []
    },
    {
      "cell_type": "code",
      "source": [
        "df_city_day.head()"
      ],
      "metadata": {
        "trusted": true,
        "id": "B6G5kK_xiNCg"
      },
      "execution_count": null,
      "outputs": []
    },
    {
      "cell_type": "markdown",
      "source": [
        "# 10 days comparison between 2019 & 2020\n",
        "# Ahmedabad"
      ],
      "metadata": {
        "id": "cyaFYo5fiNCg"
      }
    },
    {
      "cell_type": "code",
      "source": [
        "df_ahmedabad = df_comparison[df_comparison['City'] == \"Ahmedabad\"]\n",
        "df_ahmedabad[['PM2.5', 'PM10', 'NO2', 'NOx', 'CO', 'Xylene', 'AQI',\"Year\"]].style.background_gradient(cmap='Reds')"
      ],
      "metadata": {
        "_kg_hide-input": true,
        "trusted": true,
        "id": "FrA9NVg0iNCg"
      },
      "execution_count": null,
      "outputs": []
    },
    {
      "cell_type": "markdown",
      "source": [
        "# 10 days comparison between 2019 & 2020\n",
        "# Bengaluru"
      ],
      "metadata": {
        "id": "nhd1xGvpiNCg"
      }
    },
    {
      "cell_type": "code",
      "source": [
        "df_bengaluru = df_comparison[df_comparison['City'] == \"Bengaluru\"]\n",
        "df_bengaluru[['PM2.5', 'PM10', 'NO2', 'NOx', 'CO', 'Xylene', 'AQI',\"Year\"]].style.background_gradient(cmap='Reds')"
      ],
      "metadata": {
        "_kg_hide-input": true,
        "trusted": true,
        "id": "_5_xjGDGiNCg"
      },
      "execution_count": null,
      "outputs": []
    },
    {
      "cell_type": "markdown",
      "source": [
        "# 10 days comparison between 2019 & 2020\n",
        "# Delhi"
      ],
      "metadata": {
        "id": "c7ih_zagiNCh"
      }
    },
    {
      "cell_type": "code",
      "source": [
        "df_delhi = df_comparison[df_comparison['City'] == \"Delhi\"]\n",
        "df_delhi[['PM2.5', 'PM10', 'NO2', 'NOx', 'CO', 'Xylene', 'AQI',\"Year\"]].style.background_gradient(cmap='Reds')"
      ],
      "metadata": {
        "_kg_hide-input": true,
        "trusted": true,
        "id": "UQA6_NN4iNCh"
      },
      "execution_count": null,
      "outputs": []
    },
    {
      "cell_type": "code",
      "source": [
        "df_comparison.reset_index(inplace=True)"
      ],
      "metadata": {
        "_kg_hide-input": true,
        "_kg_hide-output": true,
        "trusted": true,
        "id": "l536sfxAiNCh"
      },
      "execution_count": null,
      "outputs": []
    },
    {
      "cell_type": "markdown",
      "source": [
        "# Air Quality Index Comparison 2019 vs 2020 (April 1st 10 days)"
      ],
      "metadata": {
        "id": "9Ws9uO-viNCk"
      }
    },
    {
      "cell_type": "code",
      "source": [
        "df_chart = df_comparison.pivot(index='Date', columns='City', values='AQI')\n",
        "df_chart[['Ahmedabad','Amaravati', 'Bengaluru','Brajrajnagar', 'Chennai', 'Delhi', 'Gurugram', 'Hyderabad', 'Jaipur', 'Lucknow']][::1].style.background_gradient(cmap='Reds')"
      ],
      "metadata": {
        "_kg_hide-input": true,
        "trusted": true,
        "id": "npJJ5b-EiNCk"
      },
      "execution_count": null,
      "outputs": []
    },
    {
      "cell_type": "markdown",
      "source": [
        "![](https://thelogicalindian.com/h-upload/2020/01/27/159773-tajfb.jpg)"
      ],
      "metadata": {
        "id": "ox37RW4WiNCk"
      }
    }
  ]
}